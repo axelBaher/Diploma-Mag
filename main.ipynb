{
 "cells": [
  {
   "metadata": {},
   "cell_type": "markdown",
   "source": "# Разработка приложения трассировки распространения новостей в сети.",
   "id": "87564ff9de78bb1f"
  },
  {
   "metadata": {},
   "cell_type": "markdown",
   "source": "## Получение новостей с сайтов.",
   "id": "7afadaec4aba676d"
  },
  {
   "metadata": {},
   "cell_type": "markdown",
   "source": "### Считывание новостей с сайтов можно сделать посредством получения RSS ленты в виде xml файла, либо простым парсингом веб-страницы.",
   "id": "361b81e0c4c918bb"
  },
  {
   "metadata": {},
   "cell_type": "markdown",
   "source": "Сайты, с которых будут считываться новости, хранятся в файле cites.txt",
   "id": "b585b0b841bae3af"
  },
  {
   "metadata": {},
   "cell_type": "markdown",
   "source": "#### Читаем сайты из файла.",
   "id": "5ffb101a401d8e50"
  },
  {
   "metadata": {
    "ExecuteTime": {
     "end_time": "2025-03-08T19:34:27.723760Z",
     "start_time": "2025-03-08T19:34:27.417443Z"
    }
   },
   "cell_type": "code",
   "source": [
    "import requests\n",
    "from bs4 import BeautifulSoup\n",
    "\n",
    "with open('data/cites.txt', 'r', encoding='utf-8') as f:\n",
    "    cites = [line.strip() for line in f]\n",
    "del f"
   ],
   "id": "97ff0708b4e0c959",
   "outputs": [],
   "execution_count": 1
  },
  {
   "metadata": {},
   "cell_type": "markdown",
   "source": "#### Парсинг сайтов.",
   "id": "2ac7d19a040b6082"
  },
  {
   "metadata": {
    "ExecuteTime": {
     "end_time": "2025-03-08T20:15:12.308529Z",
     "start_time": "2025-03-08T20:14:45.628316Z"
    }
   },
   "cell_type": "code",
   "source": [
    "from datetime import datetime, timedelta\n",
    "from urllib import response\n",
    "from selenium import webdriver\n",
    "from selenium.webdriver.common.by import By\n",
    "from selenium.webdriver.common.action_chains import ActionChains\n",
    "import time\n",
    "\n",
    "\n",
    "def parse_news(url):\n",
    "    if 'ria.ru' in url:\n",
    "        parse_ria(url)\n",
    "\n",
    "\n",
    "def parse_ria(url):\n",
    "    def parse_date(date_str):\n",
    "        today = datetime.today().date()\n",
    "        if 'Вчера' in date_str:\n",
    "            time_part = date_str.replace('Вчера, ', '')#.split(':')[0:2]\n",
    "            time_part = time_part[:5].split(\":\")\n",
    "            return datetime.strptime(f\"{today - timedelta(days=1)} {':'.join(time_part)}\", \"%Y-%m-%d %H:%M\")\n",
    "            pass\n",
    "        elif ':' in date_str and date_str[0].isdigit():\n",
    "            time_part = date_text[:5].split(\":\")\n",
    "            return datetime.strptime(f\"{today} {':'.join(time_part)}\", \"%Y-%m-%d %H:%M\")\n",
    "        else:\n",
    "            parts = date_text.split(', ')\n",
    "            day_month_part = parts[0]\n",
    "            time_part = parts[1][:5].split(\":\")\n",
    "            full_date = f'{day_month_part} {datetime.today().year} {':'.join(time_part)}'\n",
    "            return datetime.strptime(full_date, \"%Y-%m-%d %H:%M\")\n",
    "    link_hrefs = [\n",
    "        url + '/politics/',\n",
    "        url + '/world/',\n",
    "        url + '/economy/',\n",
    "        url + '/society/',\n",
    "        url + '/incidents/',\n",
    "        url + '/defense_safety/',\n",
    "        url + '/science/',\n",
    "        url + '/culture/',\n",
    "        'https://rsport.ria.ru/',\n",
    "        url + '/tourism/',\n",
    "        url + '/religion/'\n",
    "    ]\n",
    "    headers = {'User-Agent': 'Mozilla/5.0'}\n",
    "    # resp = requests.get(url, headers=headers)\n",
    "    # resp.raise_for_status()\n",
    "    # soup = BeautifulSoup(resp.text, 'html.parser')\n",
    "    # articles = soup.find_all('a', class_='cell-extension__item-link color-font-hover-only')\n",
    "    \n",
    "    for link in link_hrefs:\n",
    "        print(link)\n",
    "        resp = requests.get(link, headers=headers)\n",
    "        resp.raise_for_status()\n",
    "        soup = BeautifulSoup(resp.text, 'html.parser')\n",
    "\n",
    "        driver = webdriver.Firefox()\n",
    "        driver.get(link)\n",
    "        time.sleep(2)\n",
    "\n",
    "        target_date = datetime(2025, 3, 1)\n",
    "        news_items = driver.find_elements(By.CSS_SELECTOR, 'div.list-item')\n",
    "        for item in news_items:\n",
    "            date_element = item.find_element(By.CSS_SELECTOR, 'div:nth-child(3)')\n",
    "            date_text = date_element.text\n",
    "            date = parse_date(date_text)\n",
    "            print(date)\n",
    "        pass\n",
    "\n",
    "\n",
    "# for cite_url in cites:\n",
    "#     parse_news(cite_url)\n",
    "parse_news(cites[0])"
   ],
   "id": "9ba2e96d9ec8fc36",
   "outputs": [
    {
     "name": "stdout",
     "output_type": "stream",
     "text": [
      "https://ria.ru/politics/\n",
      "2025-03-08 18:09:00\n",
      "2025-03-08 10:45:00\n",
      "2025-03-07 23:53:00\n",
      "2025-03-07 22:32:00\n",
      "2025-03-07 12:57:00\n",
      "2025-03-07 12:56:00\n",
      "2025-03-07 10:57:00\n"
     ]
    },
    {
     "ename": "ValueError",
     "evalue": "time data '2025-03-08 6 мар' does not match format '%Y-%m-%d %H:%M'",
     "output_type": "error",
     "traceback": [
      "\u001B[31m---------------------------------------------------------------------------\u001B[39m",
      "\u001B[31mValueError\u001B[39m                                Traceback (most recent call last)",
      "\u001B[36mCell\u001B[39m\u001B[36m \u001B[39m\u001B[32mIn[23]\u001B[39m\u001B[32m, line 72\u001B[39m\n\u001B[32m     67\u001B[39m         \u001B[38;5;28;01mpass\u001B[39;00m\n\u001B[32m     70\u001B[39m \u001B[38;5;66;03m# for cite_url in cites:\u001B[39;00m\n\u001B[32m     71\u001B[39m \u001B[38;5;66;03m#     parse_news(cite_url)\u001B[39;00m\n\u001B[32m---> \u001B[39m\u001B[32m72\u001B[39m \u001B[43mparse_news\u001B[49m\u001B[43m(\u001B[49m\u001B[43mcites\u001B[49m\u001B[43m[\u001B[49m\u001B[32;43m0\u001B[39;49m\u001B[43m]\u001B[49m\u001B[43m)\u001B[49m\n",
      "\u001B[36mCell\u001B[39m\u001B[36m \u001B[39m\u001B[32mIn[23]\u001B[39m\u001B[32m, line 11\u001B[39m, in \u001B[36mparse_news\u001B[39m\u001B[34m(url)\u001B[39m\n\u001B[32m      9\u001B[39m \u001B[38;5;28;01mdef\u001B[39;00m\u001B[38;5;250m \u001B[39m\u001B[34mparse_news\u001B[39m(url):\n\u001B[32m     10\u001B[39m     \u001B[38;5;28;01mif\u001B[39;00m \u001B[33m'\u001B[39m\u001B[33mria.ru\u001B[39m\u001B[33m'\u001B[39m \u001B[38;5;129;01min\u001B[39;00m url:\n\u001B[32m---> \u001B[39m\u001B[32m11\u001B[39m         \u001B[43mparse_ria\u001B[49m\u001B[43m(\u001B[49m\u001B[43murl\u001B[49m\u001B[43m)\u001B[49m\n",
      "\u001B[36mCell\u001B[39m\u001B[36m \u001B[39m\u001B[32mIn[23]\u001B[39m\u001B[32m, line 65\u001B[39m, in \u001B[36mparse_ria\u001B[39m\u001B[34m(url)\u001B[39m\n\u001B[32m     63\u001B[39m     date_element = item.find_element(By.CSS_SELECTOR, \u001B[33m'\u001B[39m\u001B[33mdiv:nth-child(3)\u001B[39m\u001B[33m'\u001B[39m)\n\u001B[32m     64\u001B[39m     date_text = date_element.text\n\u001B[32m---> \u001B[39m\u001B[32m65\u001B[39m     date = \u001B[43mparse_date\u001B[49m\u001B[43m(\u001B[49m\u001B[43mdate_text\u001B[49m\u001B[43m)\u001B[49m\n\u001B[32m     66\u001B[39m     \u001B[38;5;28mprint\u001B[39m(date)\n\u001B[32m     67\u001B[39m \u001B[38;5;28;01mpass\u001B[39;00m\n",
      "\u001B[36mCell\u001B[39m\u001B[36m \u001B[39m\u001B[32mIn[23]\u001B[39m\u001B[32m, line 24\u001B[39m, in \u001B[36mparse_ria.<locals>.parse_date\u001B[39m\u001B[34m(date_str)\u001B[39m\n\u001B[32m     22\u001B[39m \u001B[38;5;28;01melif\u001B[39;00m \u001B[33m'\u001B[39m\u001B[33m:\u001B[39m\u001B[33m'\u001B[39m \u001B[38;5;129;01min\u001B[39;00m date_str \u001B[38;5;129;01mand\u001B[39;00m date_str[\u001B[32m0\u001B[39m].isdigit():\n\u001B[32m     23\u001B[39m     time_part = date_text[:\u001B[32m5\u001B[39m].split(\u001B[33m\"\u001B[39m\u001B[33m:\u001B[39m\u001B[33m\"\u001B[39m)\n\u001B[32m---> \u001B[39m\u001B[32m24\u001B[39m     \u001B[38;5;28;01mreturn\u001B[39;00m \u001B[43mdatetime\u001B[49m\u001B[43m.\u001B[49m\u001B[43mstrptime\u001B[49m\u001B[43m(\u001B[49m\u001B[33;43mf\u001B[39;49m\u001B[33;43m\"\u001B[39;49m\u001B[38;5;132;43;01m{\u001B[39;49;00m\u001B[43mtoday\u001B[49m\u001B[38;5;132;43;01m}\u001B[39;49;00m\u001B[33;43m \u001B[39;49m\u001B[38;5;132;43;01m{\u001B[39;49;00m\u001B[33;43m'\u001B[39;49m\u001B[33;43m:\u001B[39;49m\u001B[33;43m'\u001B[39;49m\u001B[43m.\u001B[49m\u001B[43mjoin\u001B[49m\u001B[43m(\u001B[49m\u001B[43mtime_part\u001B[49m\u001B[43m)\u001B[49m\u001B[38;5;132;43;01m}\u001B[39;49;00m\u001B[33;43m\"\u001B[39;49m\u001B[43m,\u001B[49m\u001B[43m \u001B[49m\u001B[33;43m\"\u001B[39;49m\u001B[33;43m%\u001B[39;49m\u001B[33;43mY-\u001B[39;49m\u001B[33;43m%\u001B[39;49m\u001B[33;43mm-\u001B[39;49m\u001B[38;5;132;43;01m%d\u001B[39;49;00m\u001B[33;43m \u001B[39;49m\u001B[33;43m%\u001B[39;49m\u001B[33;43mH:\u001B[39;49m\u001B[33;43m%\u001B[39;49m\u001B[33;43mM\u001B[39;49m\u001B[33;43m\"\u001B[39;49m\u001B[43m)\u001B[49m\n\u001B[32m     25\u001B[39m \u001B[38;5;28;01melse\u001B[39;00m:\n\u001B[32m     26\u001B[39m     parts = date_text.split(\u001B[33m'\u001B[39m\u001B[33m, \u001B[39m\u001B[33m'\u001B[39m)\n",
      "\u001B[36mFile \u001B[39m\u001B[32mC:\\Programs\\Python\\Python312\\Lib\\_strptime.py:554\u001B[39m, in \u001B[36m_strptime_datetime\u001B[39m\u001B[34m(cls, data_string, format)\u001B[39m\n\u001B[32m    551\u001B[39m \u001B[38;5;28;01mdef\u001B[39;00m\u001B[38;5;250m \u001B[39m\u001B[34m_strptime_datetime\u001B[39m(\u001B[38;5;28mcls\u001B[39m, data_string, \u001B[38;5;28mformat\u001B[39m=\u001B[33m\"\u001B[39m\u001B[38;5;132;01m%a\u001B[39;00m\u001B[33m \u001B[39m\u001B[33m%\u001B[39m\u001B[33mb \u001B[39m\u001B[38;5;132;01m%d\u001B[39;00m\u001B[33m \u001B[39m\u001B[33m%\u001B[39m\u001B[33mH:\u001B[39m\u001B[33m%\u001B[39m\u001B[33mM:\u001B[39m\u001B[33m%\u001B[39m\u001B[33mS \u001B[39m\u001B[33m%\u001B[39m\u001B[33mY\u001B[39m\u001B[33m\"\u001B[39m):\n\u001B[32m    552\u001B[39m \u001B[38;5;250m    \u001B[39m\u001B[33;03m\"\"\"Return a class cls instance based on the input string and the\u001B[39;00m\n\u001B[32m    553\u001B[39m \u001B[33;03m    format string.\"\"\"\u001B[39;00m\n\u001B[32m--> \u001B[39m\u001B[32m554\u001B[39m     tt, fraction, gmtoff_fraction = \u001B[43m_strptime\u001B[49m\u001B[43m(\u001B[49m\u001B[43mdata_string\u001B[49m\u001B[43m,\u001B[49m\u001B[43m \u001B[49m\u001B[38;5;28;43mformat\u001B[39;49m\u001B[43m)\u001B[49m\n\u001B[32m    555\u001B[39m     tzname, gmtoff = tt[-\u001B[32m2\u001B[39m:]\n\u001B[32m    556\u001B[39m     args = tt[:\u001B[32m6\u001B[39m] + (fraction,)\n",
      "\u001B[36mFile \u001B[39m\u001B[32mC:\\Programs\\Python\\Python312\\Lib\\_strptime.py:333\u001B[39m, in \u001B[36m_strptime\u001B[39m\u001B[34m(data_string, format)\u001B[39m\n\u001B[32m    331\u001B[39m found = format_regex.match(data_string)\n\u001B[32m    332\u001B[39m \u001B[38;5;28;01mif\u001B[39;00m \u001B[38;5;129;01mnot\u001B[39;00m found:\n\u001B[32m--> \u001B[39m\u001B[32m333\u001B[39m     \u001B[38;5;28;01mraise\u001B[39;00m \u001B[38;5;167;01mValueError\u001B[39;00m(\u001B[33m\"\u001B[39m\u001B[33mtime data \u001B[39m\u001B[38;5;132;01m%r\u001B[39;00m\u001B[33m does not match format \u001B[39m\u001B[38;5;132;01m%r\u001B[39;00m\u001B[33m\"\u001B[39m %\n\u001B[32m    334\u001B[39m                      (data_string, \u001B[38;5;28mformat\u001B[39m))\n\u001B[32m    335\u001B[39m \u001B[38;5;28;01mif\u001B[39;00m \u001B[38;5;28mlen\u001B[39m(data_string) != found.end():\n\u001B[32m    336\u001B[39m     \u001B[38;5;28;01mraise\u001B[39;00m \u001B[38;5;167;01mValueError\u001B[39;00m(\u001B[33m\"\u001B[39m\u001B[33munconverted data remains: \u001B[39m\u001B[38;5;132;01m%s\u001B[39;00m\u001B[33m\"\u001B[39m %\n\u001B[32m    337\u001B[39m                       data_string[found.end():])\n",
      "\u001B[31mValueError\u001B[39m: time data '2025-03-08 6 мар' does not match format '%Y-%m-%d %H:%M'"
     ]
    }
   ],
   "execution_count": 23
  }
 ],
 "metadata": {
  "kernelspec": {
   "display_name": "Python 3",
   "language": "python",
   "name": "python3"
  },
  "language_info": {
   "codemirror_mode": {
    "name": "ipython",
    "version": 2
   },
   "file_extension": ".py",
   "mimetype": "text/x-python",
   "name": "python",
   "nbconvert_exporter": "python",
   "pygments_lexer": "ipython2",
   "version": "2.7.6"
  }
 },
 "nbformat": 4,
 "nbformat_minor": 5
}
